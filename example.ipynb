{
  "metadata": {
    "kernelspec": {
      "name": "python",
      "display_name": "Python (Pyodide)",
      "language": "python"
    },
    "language_info": {
      "codemirror_mode": {
        "name": "python",
        "version": 3
      },
      "file_extension": ".py",
      "mimetype": "text/x-python",
      "name": "python",
      "nbconvert_exporter": "python",
      "pygments_lexer": "ipython3",
      "version": "3.8"
    }
  },
  "nbformat_minor": 4,
  "nbformat": 4,
  "cells": [
    {
      "cell_type": "markdown",
      "source": "print(\"hello world\")\n",
      "metadata": {}
    },
    {
      "cell_type": "markdown",
      "source": "list of data science language\n",
      "metadata": {}
    },
    {
      "cell_type": "code",
      "source": "python\nSQL\nR\njulia\nscala",
      "metadata": {
        "trusted": true
      },
      "outputs": [],
      "execution_count": null
    },
    {
      "cell_type": "code",
      "source": "list=['python','sql','R']\nprint(list)",
      "metadata": {
        "trusted": true
      },
      "outputs": [
        {
          "name": "stdout",
          "text": "['python', 'sql', 'R']\n",
          "output_type": "stream"
        }
      ],
      "execution_count": 15
    },
    {
      "cell_type": "code",
      "source": "list of data science libraries\n",
      "metadata": {
        "trusted": true
      },
      "outputs": [],
      "execution_count": null
    },
    {
      "cell_type": "code",
      "source": " NumPy\n Pandas\n Matplotlib\n Scikit-learn\n TensorFlow\n",
      "metadata": {
        "trusted": true
      },
      "outputs": [],
      "execution_count": null
    },
    {
      "cell_type": "code",
      "source": "list=['numpy','pandas','matplotlib']\nprint(list)",
      "metadata": {
        "trusted": true
      },
      "outputs": [
        {
          "name": "stdout",
          "text": "['numpy', 'pandas', 'matplotlib']\n",
          "output_type": "stream"
        }
      ],
      "execution_count": 13
    },
    {
      "cell_type": "code",
      "source": "import numpy as np\nimport pandas as pd\nimport matplotlib.pyplot as plt",
      "metadata": {
        "trusted": true
      },
      "outputs": [],
      "execution_count": null
    },
    {
      "cell_type": "code",
      "source": "data science tools",
      "metadata": {
        "trusted": true
      },
      "outputs": [],
      "execution_count": null
    },
    {
      "cell_type": "code",
      "source": "# Importing necessary libraries\nimport numpy as np         \nimport pandas as pd         \nimport matplotlib.pyplot as plt \n    \n\n\ndata = {\n    'Name': ['dha', 'rob', 'Charlie', 'raani', 'Eva'],\n    'Age': [56, 30, 22, 35, 19],\n    'Score': [85, 92, 68, 88, 90]\n}\ndf = pd.DataFrame(data)\nprint(df)\n",
      "metadata": {
        "trusted": true
      },
      "outputs": [
        {
          "name": "stdout",
          "text": "      Name  Age  Score\n0      dha   56     85\n1      rob   30     92\n2  Charlie   22     68\n3    raani   35     88\n4      Eva   19     90\n",
          "output_type": "stream"
        }
      ],
      "execution_count": 11
    },
    {
      "cell_type": "markdown",
      "source": "Arithmetic expression example",
      "metadata": {}
    },
    {
      "cell_type": "code",
      "source": "add=5+4\nsub=9-8\nprint(add)\nprint(sub)",
      "metadata": {
        "trusted": true
      },
      "outputs": [
        {
          "name": "stdout",
          "text": "9\n1\n",
          "output_type": "stream"
        }
      ],
      "execution_count": 1
    },
    {
      "cell_type": "markdown",
      "source": "multiply and add numbers",
      "metadata": {}
    },
    {
      "cell_type": "code",
      "source": "mul=17*8\nadd=14+900\nprint(mul)\nprint(add)",
      "metadata": {
        "trusted": true
      },
      "outputs": [
        {
          "name": "stdout",
          "text": "136\n914\n",
          "output_type": "stream"
        }
      ],
      "execution_count": 2
    },
    {
      "cell_type": "markdown",
      "source": "Minutes to hours",
      "metadata": {}
    },
    {
      "cell_type": "code",
      "source": "min=350\nhr=min/60\nprint(hr)",
      "metadata": {
        "trusted": true
      },
      "outputs": [
        {
          "name": "stdout",
          "text": "5.833333333333333\n",
          "output_type": "stream"
        }
      ],
      "execution_count": 3
    },
    {
      "cell_type": "code",
      "source": "unordered list",
      "metadata": {
        "trusted": true
      },
      "outputs": [],
      "execution_count": null
    },
    {
      "cell_type": "markdown",
      "source": " Understand basic arithmetic operations\n Convert time units (minutes to hours)\n Perform multiplication and addition in Python\n",
      "metadata": {}
    },
    {
      "cell_type": "code",
      "source": "list = ['numpy', 'pandas', 'matplotlib']\nprint(\"Unordered List of Libraries:\")\nfor item in list:\n    print(f\"- {item}\")\n",
      "metadata": {
        "trusted": true
      },
      "outputs": [
        {
          "name": "stdout",
          "text": "Unordered List of Libraries:\n- numpy\n- pandas\n- matplotlib\n",
          "output_type": "stream"
        }
      ],
      "execution_count": 14
    },
    {
      "cell_type": "markdown",
      "source": "Author details",
      "metadata": {}
    },
    {
      "cell_type": "code",
      "source": "aut_name=\"Colleen hoover\"\nprint(aut_name)",
      "metadata": {
        "trusted": true
      },
      "outputs": [
        {
          "name": "stdout",
          "text": "Colleen hoover\n",
          "output_type": "stream"
        }
      ],
      "execution_count": 4
    },
    {
      "cell_type": "code",
      "source": "",
      "metadata": {
        "trusted": true
      },
      "outputs": [],
      "execution_count": null
    }
  ]
}